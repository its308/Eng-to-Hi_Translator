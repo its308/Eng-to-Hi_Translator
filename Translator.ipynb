{
 "cells": [
  {
   "cell_type": "code",
   "execution_count": 1,
   "id": "5ab3ce4e-5a79-4ffe-8ad6-f5c831e204db",
   "metadata": {},
   "outputs": [],
   "source": [
    "import tensorflow as tf\n",
    "tf.config.set_visible_devices([], 'GPU')\n"
   ]
  },
  {
   "cell_type": "code",
   "execution_count": 2,
   "id": "4eb65fee-adfb-45bf-a2d8-1e0647ccd2f4",
   "metadata": {},
   "outputs": [],
   "source": [
    "from tensorflow.keras.preprocessing.text import Tokenizer\n",
    "from tensorflow.keras.preprocessing.sequence import pad_sequences\n",
    "import numpy as np\n"
   ]
  },
  {
   "cell_type": "code",
   "execution_count": 3,
   "id": "fed30d95-381c-4bff-a1b3-627ce8ce3ea9",
   "metadata": {},
   "outputs": [],
   "source": [
    "def data_preprocessor(source_sentences,target_sentences):\n",
    "    source_tokenizer=Tokenizer()\n",
    "    source_tokenizer.fit_on_texts(source_sentences)  # it creates a vocabulary from the sentences based on frequency and order\n",
    "    source_sequences=source_tokenizer.texts_to_sequences(source_sentences) # uses the previous-built vocabulary to map unique integer to each word\n",
    "    source_padded=pad_sequences(source_sequences,padding='post') #to fix the length of all sequence to max. seq. length\n",
    "\n",
    "    target_sentences=['start '+sentence+' end' for sentence in target_sentences]\n",
    "    target_tokenizer=Tokenizer()\n",
    "    target_tokenizer.fit_on_texts(target_sentences)  \n",
    "    target_sequences=target_tokenizer.texts_to_sequences(target_sentences)\n",
    "    target_padded=pad_sequences(target_sequences,padding='post')\n",
    "    return source_padded,target_padded,source_tokenizer,target_tokenizer\n",
    "    "
   ]
  },
  {
   "cell_type": "code",
   "execution_count": null,
   "id": "8d033c9d-59b6-4555-8687-7711a6499acb",
   "metadata": {},
   "outputs": [],
   "source": []
  },
  {
   "cell_type": "code",
   "execution_count": 5,
   "id": "660b0c4c-e873-458d-942d-2f7db7a6ea45",
   "metadata": {},
   "outputs": [
    {
     "name": "stdout",
     "output_type": "stream",
     "text": [
      "Requirement already satisfied: datasets in /opt/anaconda3/envs/tf/lib/python3.11/site-packages (3.3.2)\n",
      "Requirement already satisfied: filelock in /opt/anaconda3/envs/tf/lib/python3.11/site-packages (from datasets) (3.17.0)\n",
      "Requirement already satisfied: numpy>=1.17 in /opt/anaconda3/envs/tf/lib/python3.11/site-packages (from datasets) (1.23.5)\n",
      "Requirement already satisfied: pyarrow>=15.0.0 in /opt/anaconda3/envs/tf/lib/python3.11/site-packages (from datasets) (19.0.1)\n",
      "Requirement already satisfied: dill<0.3.9,>=0.3.0 in /opt/anaconda3/envs/tf/lib/python3.11/site-packages (from datasets) (0.3.8)\n",
      "Requirement already satisfied: pandas in /opt/anaconda3/envs/tf/lib/python3.11/site-packages (from datasets) (2.2.3)\n",
      "Requirement already satisfied: requests>=2.32.2 in /opt/anaconda3/envs/tf/lib/python3.11/site-packages (from datasets) (2.32.3)\n",
      "Requirement already satisfied: tqdm>=4.66.3 in /opt/anaconda3/envs/tf/lib/python3.11/site-packages (from datasets) (4.67.1)\n",
      "Requirement already satisfied: xxhash in /opt/anaconda3/envs/tf/lib/python3.11/site-packages (from datasets) (3.5.0)\n",
      "Requirement already satisfied: multiprocess<0.70.17 in /opt/anaconda3/envs/tf/lib/python3.11/site-packages (from datasets) (0.70.16)\n",
      "Requirement already satisfied: fsspec<=2024.12.0,>=2023.1.0 in /opt/anaconda3/envs/tf/lib/python3.11/site-packages (from fsspec[http]<=2024.12.0,>=2023.1.0->datasets) (2024.12.0)\n",
      "Requirement already satisfied: aiohttp in /opt/anaconda3/envs/tf/lib/python3.11/site-packages (from datasets) (3.11.10)\n",
      "Requirement already satisfied: huggingface-hub>=0.24.0 in /opt/anaconda3/envs/tf/lib/python3.11/site-packages (from datasets) (0.29.1)\n",
      "Requirement already satisfied: packaging in /opt/anaconda3/envs/tf/lib/python3.11/site-packages (from datasets) (24.2)\n",
      "Requirement already satisfied: pyyaml>=5.1 in /opt/anaconda3/envs/tf/lib/python3.11/site-packages (from datasets) (6.0.2)\n",
      "Requirement already satisfied: aiohappyeyeballs>=2.3.0 in /opt/anaconda3/envs/tf/lib/python3.11/site-packages (from aiohttp->datasets) (2.4.4)\n",
      "Requirement already satisfied: aiosignal>=1.1.2 in /opt/anaconda3/envs/tf/lib/python3.11/site-packages (from aiohttp->datasets) (1.2.0)\n",
      "Requirement already satisfied: attrs>=17.3.0 in /opt/anaconda3/envs/tf/lib/python3.11/site-packages (from aiohttp->datasets) (24.3.0)\n",
      "Requirement already satisfied: frozenlist>=1.1.1 in /opt/anaconda3/envs/tf/lib/python3.11/site-packages (from aiohttp->datasets) (1.5.0)\n",
      "Requirement already satisfied: multidict<7.0,>=4.5 in /opt/anaconda3/envs/tf/lib/python3.11/site-packages (from aiohttp->datasets) (6.1.0)\n",
      "Requirement already satisfied: propcache>=0.2.0 in /opt/anaconda3/envs/tf/lib/python3.11/site-packages (from aiohttp->datasets) (0.2.0)\n",
      "Requirement already satisfied: yarl<2.0,>=1.17.0 in /opt/anaconda3/envs/tf/lib/python3.11/site-packages (from aiohttp->datasets) (1.18.0)\n",
      "Requirement already satisfied: typing-extensions>=3.7.4.3 in /opt/anaconda3/envs/tf/lib/python3.11/site-packages (from huggingface-hub>=0.24.0->datasets) (4.12.2)\n",
      "Requirement already satisfied: charset-normalizer<4,>=2 in /opt/anaconda3/envs/tf/lib/python3.11/site-packages (from requests>=2.32.2->datasets) (3.3.2)\n",
      "Requirement already satisfied: idna<4,>=2.5 in /opt/anaconda3/envs/tf/lib/python3.11/site-packages (from requests>=2.32.2->datasets) (3.7)\n",
      "Requirement already satisfied: urllib3<3,>=1.21.1 in /opt/anaconda3/envs/tf/lib/python3.11/site-packages (from requests>=2.32.2->datasets) (2.3.0)\n",
      "Requirement already satisfied: certifi>=2017.4.17 in /opt/anaconda3/envs/tf/lib/python3.11/site-packages (from requests>=2.32.2->datasets) (2024.12.14)\n",
      "Requirement already satisfied: python-dateutil>=2.8.2 in /opt/anaconda3/envs/tf/lib/python3.11/site-packages (from pandas->datasets) (2.9.0.post0)\n",
      "Requirement already satisfied: pytz>=2020.1 in /opt/anaconda3/envs/tf/lib/python3.11/site-packages (from pandas->datasets) (2025.1)\n",
      "Requirement already satisfied: tzdata>=2022.7 in /opt/anaconda3/envs/tf/lib/python3.11/site-packages (from pandas->datasets) (2025.1)\n",
      "Requirement already satisfied: six>=1.5 in /opt/anaconda3/envs/tf/lib/python3.11/site-packages (from python-dateutil>=2.8.2->pandas->datasets) (1.16.0)\n",
      "Note: you may need to restart the kernel to use updated packages.\n"
     ]
    }
   ],
   "source": [
    "pip install datasets"
   ]
  },
  {
   "cell_type": "code",
   "execution_count": 6,
   "id": "d096b13a-e9dc-46cc-8574-58a74a2fef88",
   "metadata": {},
   "outputs": [
    {
     "name": "stderr",
     "output_type": "stream",
     "text": [
      "/opt/anaconda3/envs/tf/lib/python3.11/site-packages/tqdm/auto.py:21: TqdmWarning: IProgress not found. Please update jupyter and ipywidgets. See https://ipywidgets.readthedocs.io/en/stable/user_install.html\n",
      "  from .autonotebook import tqdm as notebook_tqdm\n"
     ]
    }
   ],
   "source": [
    "from datasets import load_dataset"
   ]
  },
  {
   "cell_type": "code",
   "execution_count": 7,
   "id": "9382fe6c-68e7-44de-b927-2e3098d81b80",
   "metadata": {},
   "outputs": [],
   "source": [
    "dataset=load_dataset(\"cfilt/iitb-english-hindi\")\n",
    "\n",
    "subset=dataset[\"train\"].shuffle(seed=42).select(range(10000))\n",
    "english_sentences=[item[\"translation\"][\"en\"] for item in subset]\n",
    "hindi_sentences=[item[\"translation\"][\"hi\"] for item in subset]"
   ]
  },
  {
   "cell_type": "code",
   "execution_count": 8,
   "id": "95b1e0a6-6ecd-4f1a-9b7c-0807a0de5c55",
   "metadata": {},
   "outputs": [],
   "source": [
    "encoder_input_data,target_data,source_tokenizer,target_tokenizer=data_preprocessor(english_sentences,hindi_sentences )"
   ]
  },
  {
   "cell_type": "code",
   "execution_count": 9,
   "id": "a2307d19-52fc-4826-9860-3b4ed1e8cc2e",
   "metadata": {},
   "outputs": [
    {
     "data": {
      "text/plain": [
       "array([[   2, 8212, 5431, ...,    0,    0,    0],\n",
       "       [   2, 8213,    1, ...,    0,    0,    0],\n",
       "       [   2,   55,  427, ...,    0,    0,    0],\n",
       "       ...,\n",
       "       [   2, 1510, 1445, ...,    0,    0,    0],\n",
       "       [   2, 1123,  542, ...,    0,    0,    0],\n",
       "       [   2,  461,    9, ...,    0,    0,    0]], dtype=int32)"
      ]
     },
     "execution_count": 9,
     "metadata": {},
     "output_type": "execute_result"
    }
   ],
   "source": [
    "target_data"
   ]
  },
  {
   "cell_type": "code",
   "execution_count": 10,
   "id": "53114c95-b1fc-4034-9ff1-eb6a5c8268d1",
   "metadata": {},
   "outputs": [
    {
     "data": {
      "text/plain": [
       "array([[   13,     1,  7819, ...,     0,     0,     0],\n",
       "       [ 7820,  7821,     0, ...,     0,     0,     0],\n",
       "       [   24,    10,    14, ...,     0,     0,     0],\n",
       "       ...,\n",
       "       [ 4958,   210, 17651, ...,     0,     0,     0],\n",
       "       [ 1022,  1010,     0, ...,     0,     0,     0],\n",
       "       [  196, 17652,  5865, ...,     0,     0,     0]], dtype=int32)"
      ]
     },
     "execution_count": 10,
     "metadata": {},
     "output_type": "execute_result"
    }
   ],
   "source": [
    "encoder_input_data"
   ]
  },
  {
   "cell_type": "code",
   "execution_count": 11,
   "id": "388df73c-005c-446b-a30e-507b3e46df5e",
   "metadata": {},
   "outputs": [
    {
     "name": "stderr",
     "output_type": "stream",
     "text": [
      "2025-03-03 09:26:38.735780: I tensorflow/core/common_runtime/executor.cc:1197] [/device:CPU:0] (DEBUG INFO) Executor start aborting (this does not indicate an error and you can ignore this message): INVALID_ARGUMENT: You must feed a value for placeholder tensor 'gradients/split_2_grad/concat/split_2/split_dim' with dtype int32\n",
      "\t [[{{node gradients/split_2_grad/concat/split_2/split_dim}}]]\n",
      "2025-03-03 09:26:38.736320: I tensorflow/core/common_runtime/executor.cc:1197] [/device:CPU:0] (DEBUG INFO) Executor start aborting (this does not indicate an error and you can ignore this message): INVALID_ARGUMENT: You must feed a value for placeholder tensor 'gradients/split_grad/concat/split/split_dim' with dtype int32\n",
      "\t [[{{node gradients/split_grad/concat/split/split_dim}}]]\n",
      "2025-03-03 09:26:38.736948: I tensorflow/core/common_runtime/executor.cc:1197] [/device:CPU:0] (DEBUG INFO) Executor start aborting (this does not indicate an error and you can ignore this message): INVALID_ARGUMENT: You must feed a value for placeholder tensor 'gradients/split_1_grad/concat/split_1/split_dim' with dtype int32\n",
      "\t [[{{node gradients/split_1_grad/concat/split_1/split_dim}}]]\n",
      "2025-03-03 09:26:38.879927: I tensorflow/core/common_runtime/executor.cc:1197] [/device:CPU:0] (DEBUG INFO) Executor start aborting (this does not indicate an error and you can ignore this message): INVALID_ARGUMENT: You must feed a value for placeholder tensor 'gradients/split_2_grad/concat/split_2/split_dim' with dtype int32\n",
      "\t [[{{node gradients/split_2_grad/concat/split_2/split_dim}}]]\n",
      "2025-03-03 09:26:38.880327: I tensorflow/core/common_runtime/executor.cc:1197] [/device:CPU:0] (DEBUG INFO) Executor start aborting (this does not indicate an error and you can ignore this message): INVALID_ARGUMENT: You must feed a value for placeholder tensor 'gradients/split_grad/concat/split/split_dim' with dtype int32\n",
      "\t [[{{node gradients/split_grad/concat/split/split_dim}}]]\n",
      "2025-03-03 09:26:38.880783: I tensorflow/core/common_runtime/executor.cc:1197] [/device:CPU:0] (DEBUG INFO) Executor start aborting (this does not indicate an error and you can ignore this message): INVALID_ARGUMENT: You must feed a value for placeholder tensor 'gradients/split_1_grad/concat/split_1/split_dim' with dtype int32\n",
      "\t [[{{node gradients/split_1_grad/concat/split_1/split_dim}}]]\n"
     ]
    }
   ],
   "source": [
    "from tensorflow.keras.layers import Input,LSTM,Dense,Embedding,Concatenate\n",
    "from tensorflow.keras.layers import AdditiveAttention as Attention\n",
    "from tensorflow.keras.models import Model\n",
    "\n",
    "embedding_dim=256\n",
    "latent_dim=512\n",
    "num_encoder_tokens=len(source_tokenizer.word_index)+1\n",
    "num_decoder_tokens=len(target_tokenizer.word_index)+1  #both tokenizers have diff. vocabulary\n",
    "\n",
    "encoder_inputs=Input(shape=(None,),name='encoder_inputs')\n",
    "encoder_embedding = Embedding(num_encoder_tokens, embedding_dim, name=\"encoder_embedding\")(encoder_inputs)\n",
    "\n",
    "encoder_lstm = LSTM(latent_dim, return_sequences=True, return_state=True, name=\"encoder_lstm\")# return_sequences=True gives us the full sequence needed for attention and return_state=True gives final hidden and cell state\n",
    "encoder_outputs,state_h,state_c=encoder_lstm(encoder_embedding)\n",
    "encoder_states=[state_h,state_c]\n",
    "\n",
    "decoder_inputs=Input(shape=(None,),name='decoder_inputs')\n",
    "decoder_embedding=Embedding(num_decoder_tokens,embedding_dim,name='decoder_embedding')\n",
    "decoder_embedding_output=decoder_embedding(decoder_inputs)\n",
    "decoder_lstm = LSTM(latent_dim, return_sequences=True, return_state=True, name=\"decoder_lstm\")\n",
    "decoder_outputs,_,_=decoder_lstm(decoder_embedding_output,initial_state=encoder_states) # in decoder while training, all the predictions occur in parallel because instead of previous hidden state as input,actual ground truth is fed into the decodeer as input\n",
    "\n",
    "attention_layer=Attention(name='attention_layer')\n",
    "attention_output=attention_layer([decoder_outputs,encoder_outputs])\n",
    "\n",
    "decoder_concat=Concatenate(axis=-1,name=\"concat_layer\")([decoder_outputs,attention_output])\n",
    "\n",
    "decoder_dense=Dense(num_decoder_tokens,activation='softmax',name='decoder_dense')\n",
    "decoder_output_final=decoder_dense(decoder_concat)\n",
    "\n",
    "# Define the training model that accepts encoder and decoder inputs and produces output probabilities.\n",
    "training_model=Model([encoder_inputs,decoder_inputs],decoder_output_final)\n",
    "training_model.compile(optimizer='rmsprop',loss='categorical_crossentropy',metrics=['accuracy'])\n",
    "\n",
    "\n",
    "\n"
   ]
  },
  {
   "cell_type": "code",
   "execution_count": null,
   "id": "6c197b75-48b2-451d-86c7-442f23031837",
   "metadata": {},
   "outputs": [
    {
     "name": "stdout",
     "output_type": "stream",
     "text": [
      "Epoch 1/50\n"
     ]
    },
    {
     "name": "stderr",
     "output_type": "stream",
     "text": [
      "2025-03-03 09:26:48.627281: W tensorflow/tsl/platform/profile_utils/cpu_utils.cc:128] Failed to get CPU frequency: 0 Hz\n",
      "2025-03-03 09:26:48.746238: I tensorflow/core/common_runtime/executor.cc:1197] [/device:CPU:0] (DEBUG INFO) Executor start aborting (this does not indicate an error and you can ignore this message): INVALID_ARGUMENT: You must feed a value for placeholder tensor 'gradients/split_2_grad/concat/split_2/split_dim' with dtype int32\n",
      "\t [[{{node gradients/split_2_grad/concat/split_2/split_dim}}]]\n",
      "2025-03-03 09:26:48.746838: I tensorflow/core/common_runtime/executor.cc:1197] [/device:CPU:0] (DEBUG INFO) Executor start aborting (this does not indicate an error and you can ignore this message): INVALID_ARGUMENT: You must feed a value for placeholder tensor 'gradients/split_grad/concat/split/split_dim' with dtype int32\n",
      "\t [[{{node gradients/split_grad/concat/split/split_dim}}]]\n",
      "2025-03-03 09:26:48.747384: I tensorflow/core/common_runtime/executor.cc:1197] [/device:CPU:0] (DEBUG INFO) Executor start aborting (this does not indicate an error and you can ignore this message): INVALID_ARGUMENT: You must feed a value for placeholder tensor 'gradients/split_1_grad/concat/split_1/split_dim' with dtype int32\n",
      "\t [[{{node gradients/split_1_grad/concat/split_1/split_dim}}]]\n",
      "2025-03-03 09:26:48.822314: I tensorflow/core/common_runtime/executor.cc:1197] [/device:CPU:0] (DEBUG INFO) Executor start aborting (this does not indicate an error and you can ignore this message): INVALID_ARGUMENT: You must feed a value for placeholder tensor 'gradients/split_2_grad/concat/split_2/split_dim' with dtype int32\n",
      "\t [[{{node gradients/split_2_grad/concat/split_2/split_dim}}]]\n",
      "2025-03-03 09:26:48.822783: I tensorflow/core/common_runtime/executor.cc:1197] [/device:CPU:0] (DEBUG INFO) Executor start aborting (this does not indicate an error and you can ignore this message): INVALID_ARGUMENT: You must feed a value for placeholder tensor 'gradients/split_grad/concat/split/split_dim' with dtype int32\n",
      "\t [[{{node gradients/split_grad/concat/split/split_dim}}]]\n",
      "2025-03-03 09:26:48.823206: I tensorflow/core/common_runtime/executor.cc:1197] [/device:CPU:0] (DEBUG INFO) Executor start aborting (this does not indicate an error and you can ignore this message): INVALID_ARGUMENT: You must feed a value for placeholder tensor 'gradients/split_1_grad/concat/split_1/split_dim' with dtype int32\n",
      "\t [[{{node gradients/split_1_grad/concat/split_1/split_dim}}]]\n",
      "2025-03-03 09:26:49.228980: I tensorflow/core/common_runtime/executor.cc:1197] [/device:CPU:0] (DEBUG INFO) Executor start aborting (this does not indicate an error and you can ignore this message): INVALID_ARGUMENT: You must feed a value for placeholder tensor 'gradients/split_2_grad/concat/split_2/split_dim' with dtype int32\n",
      "\t [[{{node gradients/split_2_grad/concat/split_2/split_dim}}]]\n",
      "2025-03-03 09:26:49.229437: I tensorflow/core/common_runtime/executor.cc:1197] [/device:CPU:0] (DEBUG INFO) Executor start aborting (this does not indicate an error and you can ignore this message): INVALID_ARGUMENT: You must feed a value for placeholder tensor 'gradients/split_grad/concat/split/split_dim' with dtype int32\n",
      "\t [[{{node gradients/split_grad/concat/split/split_dim}}]]\n",
      "2025-03-03 09:26:49.230060: I tensorflow/core/common_runtime/executor.cc:1197] [/device:CPU:0] (DEBUG INFO) Executor start aborting (this does not indicate an error and you can ignore this message): INVALID_ARGUMENT: You must feed a value for placeholder tensor 'gradients/split_1_grad/concat/split_1/split_dim' with dtype int32\n",
      "\t [[{{node gradients/split_1_grad/concat/split_1/split_dim}}]]\n",
      "2025-03-03 09:26:49.299976: I tensorflow/core/common_runtime/executor.cc:1197] [/device:CPU:0] (DEBUG INFO) Executor start aborting (this does not indicate an error and you can ignore this message): INVALID_ARGUMENT: You must feed a value for placeholder tensor 'gradients/split_2_grad/concat/split_2/split_dim' with dtype int32\n",
      "\t [[{{node gradients/split_2_grad/concat/split_2/split_dim}}]]\n",
      "2025-03-03 09:26:49.300432: I tensorflow/core/common_runtime/executor.cc:1197] [/device:CPU:0] (DEBUG INFO) Executor start aborting (this does not indicate an error and you can ignore this message): INVALID_ARGUMENT: You must feed a value for placeholder tensor 'gradients/split_grad/concat/split/split_dim' with dtype int32\n",
      "\t [[{{node gradients/split_grad/concat/split/split_dim}}]]\n",
      "2025-03-03 09:26:49.300914: I tensorflow/core/common_runtime/executor.cc:1197] [/device:CPU:0] (DEBUG INFO) Executor start aborting (this does not indicate an error and you can ignore this message): INVALID_ARGUMENT: You must feed a value for placeholder tensor 'gradients/split_1_grad/concat/split_1/split_dim' with dtype int32\n",
      "\t [[{{node gradients/split_1_grad/concat/split_1/split_dim}}]]\n",
      "2025-03-03 09:26:49.587407: W tensorflow/core/grappler/costs/op_level_cost_estimator.cc:690] Error in PredictCost() for the op: op: \"Softmax\" attr { key: \"T\" value { type: DT_FLOAT } } inputs { dtype: DT_FLOAT shape { unknown_rank: true } } device { type: \"CPU\" model: \"0\" num_cores: 8 environment { key: \"cpu_instruction_set\" value: \"ARM NEON\" } environment { key: \"eigen\" value: \"3.4.90\" } l1_cache_size: 16384 l2_cache_size: 524288 l3_cache_size: 524288 memory_size: 268435456 } outputs { dtype: DT_FLOAT shape { unknown_rank: true } }\n"
     ]
    }
   ],
   "source": [
    "from tensorflow.keras.utils import to_categorical\n",
    "decoder_input_data=target_data[:,:-1]\n",
    "decoder_target_data=target_data[:,1:]\n",
    "\n",
    "decoder_target_data_cat=to_categorical(decoder_target_data,num_decoder_tokens)\n",
    "\n",
    "training_model.fit([encoder_input_data, decoder_input_data],decoder_target_data_cat,batch_size=64,epochs=50,validation_split=0.2)\n"
   ]
  },
  {
   "cell_type": "code",
   "execution_count": null,
   "id": "4bf709aa-70b5-4ffa-b8eb-94877a175a11",
   "metadata": {},
   "outputs": [],
   "source": [
    "encoder_model_inf=Model(encoder_inputs,[encoder_outputs,state_h,state_c])"
   ]
  },
  {
   "cell_type": "code",
   "execution_count": null,
   "id": "ea55d702-0917-4eef-854d-f52c5562e9da",
   "metadata": {},
   "outputs": [],
   "source": [
    "decoder_state_input_h=Input(shape=(latent_dim,),name='decoder_state_input_h')\n",
    "decoder_state_input_c=Input(shape=(latent_dim,),name='decoder_state_input_c')\n",
    "encoder_outputs_input=Input(shape=(None,latent_dim),name='encoder_outputs_input')"
   ]
  },
  {
   "cell_type": "code",
   "execution_count": null,
   "id": "2f489184-bc14-441e-b2a5-a76f16b6a2a7",
   "metadata": {},
   "outputs": [],
   "source": [
    "decoder_inf_embeddings = decoder_embedding(decoder_inputs)\n",
    "decoder_inf_outputs,state_h_inf,state_c_inf=decoder_lstm(decoder_inf_embeddings,initial_state=[decoder_state_input_h,decoder_state_input_c])\n",
    "attention_inf=attention_layer([decoder_inf_outputs,encoder_outputs_input])\n",
    "decoder_inf_concat=Concatenate(axis=-1)([decoder_inf_outputs,attention_inf])\n",
    "decoder_inf_outputs_final=decoder_dense(decoder_inf_concat)\n",
    "\n",
    "decoder_model_inf=Model([decoder_inputs,encoder_outputs_input,decoder_state_input_h,decoder_state_input_c],[decoder_inf_outputs_final,state_h_inf,state_c_inf])\n"
   ]
  },
  {
   "cell_type": "code",
   "execution_count": null,
   "id": "816c3a23-8169-4034-85cf-974aa58421d3",
   "metadata": {},
   "outputs": [],
   "source": [
    "def translate(input_text):\n",
    "    \n",
    "    input_seq = source_tokenizer.texts_to_sequences([input_text])\n",
    "\n",
    "    input_seq=pad_sequences(input_seq,maxlen=encoder_input_data.shape[1],padding='post')\n",
    "\n",
    "    enc_outs,state_h, state_c=encoder_model_inf.predict(input_seq)\n",
    "\n",
    "    start_token_index=target_tokenizer.word_index['start']\n",
    "    target_seq=np.array([[start_token_index]])\n",
    "\n",
    "    decoded_sentence=''\n",
    "    stop_condition=False\n",
    "\n",
    "    while not stop_condition:\n",
    "        output_tokens,state_h,state_c=decoder_model_inf.predict([target_seq,enc_outs,state_h, state_c])\n",
    "        sampled_token_index=np.argmax(output_tokens[0,-1,:])    #output_tokens[0, -1, :] means:\n",
    "                                                                # 0: We select the first (and only) sample in the batch.\n",
    "                                                                # -1: We select the output from the last time step (which corresponds to the most recent prediction).\n",
    "                                                                # :: We take all elements along the last dimension, which represents the probabilities for each token in the target vocabulary.\n",
    "        sampled_word=target_tokenizer.index_word.get(sampled_token_index,'')\n",
    "\n",
    "        if(sampled_word=='end' or len(decoded_sentence.split()) >50):\n",
    "            stop_condition=True\n",
    "        else:\n",
    "            decoded_sentence+=' '+sampled_word\n",
    "\n",
    "        target_seq=np.array([[sampled_token_index]])\n",
    "\n",
    "    return decoded_sentence.strip()"
   ]
  },
  {
   "cell_type": "code",
   "execution_count": null,
   "id": "57e7fca1-0afd-4536-8d90-572bc18145c8",
   "metadata": {},
   "outputs": [],
   "source": [
    "translated_sentence=translate(\"hello\")"
   ]
  },
  {
   "cell_type": "code",
   "execution_count": null,
   "id": "d9b40385-6983-4e68-90f9-a9f90337b723",
   "metadata": {},
   "outputs": [],
   "source": [
    "print(translated_sentence)"
   ]
  },
  {
   "cell_type": "code",
   "execution_count": null,
   "id": "4b2d77eb-b83e-4e99-aaef-d7e301ecec6b",
   "metadata": {},
   "outputs": [],
   "source": [
    "translated_sentence=translate(\"have a good day?\")"
   ]
  },
  {
   "cell_type": "code",
   "execution_count": null,
   "id": "d8640a25-f185-4cff-8e87-6b114c40e3f3",
   "metadata": {},
   "outputs": [],
   "source": [
    "print(translated_sentence)"
   ]
  },
  {
   "cell_type": "code",
   "execution_count": null,
   "id": "ebc49acb-4a78-4891-8055-fecd3e5de487",
   "metadata": {},
   "outputs": [],
   "source": []
  }
 ],
 "metadata": {
  "kernelspec": {
   "display_name": "Python 3 (ipykernel)",
   "language": "python",
   "name": "python3"
  },
  "language_info": {
   "codemirror_mode": {
    "name": "ipython",
    "version": 3
   },
   "file_extension": ".py",
   "mimetype": "text/x-python",
   "name": "python",
   "nbconvert_exporter": "python",
   "pygments_lexer": "ipython3",
   "version": "3.11.5"
  }
 },
 "nbformat": 4,
 "nbformat_minor": 5
}
